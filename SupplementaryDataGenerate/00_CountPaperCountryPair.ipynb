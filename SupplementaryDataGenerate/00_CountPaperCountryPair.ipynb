{
 "cells": [
  {
   "cell_type": "code",
   "execution_count": 10,
   "metadata": {},
   "outputs": [],
   "source": [
    "### From XML to Source<TAB>Target\n",
    "import scopus_xml_parsing_20190409 as stk\n",
    "import glob\n",
    "#import zipfile\n",
    "#import multiprocessing as mp\n",
    "import gc\n",
    "import csv\n",
    "from itertools import combinations_with_replacement, product\n",
    "from collections import defaultdict\n",
    "\n",
    "from tqdm import tqdm_notebook\n",
    "\n",
    "datadir = \"/home/jhyun/workbox/01_WikipediaCategoryStructure/SupplementaryDataGenerate/author_countires_dataset/\"\n",
    "ziplist = glob.glob(datadir+\"*.out\")\n"
   ]
  },
  {
   "cell_type": "code",
   "execution_count": 11,
   "metadata": {},
   "outputs": [],
   "source": [
    "_base_dir = \"/home/jhyun/workbox/00_scopus_data_test/output/20190803/country_pair/\"\n",
    "outfile_collab_paper = _base_dir + \"no_collab_paper.tsv\"\n",
    "outfile_total_paper = _base_dir + \"no_total_paper.tsv\"\n",
    "outfile_collab_pair = _base_dir + \"no_collab_pair.tsv\"\n",
    "outfile_citation_pair = _base_dir + \"no_citation_pair.tsv\""
   ]
  },
  {
   "cell_type": "code",
   "execution_count": 12,
   "metadata": {},
   "outputs": [
    {
     "data": {
      "application/vnd.jupyter.widget-view+json": {
       "model_id": "68b4480062584a449d8a9097c4d66738",
       "version_major": 2,
       "version_minor": 0
      },
      "text/plain": [
       "HBox(children=(IntProgress(value=0, max=8241), HTML(value='')))"
      ]
     },
     "metadata": {},
     "output_type": "display_data"
    }
   ],
   "source": [
    "no_collab_paper = defaultdict(int)\n",
    "no_total_paper = defaultdict(int)\n",
    "no_collab_pair = defaultdict(int)\n",
    "paper_cou_dict = defaultdict(set)\n",
    "\n",
    "for infile_paper in tqdm_notebook(ziplist):\n",
    "    with open(infile_paper) as csv_file:\n",
    "        csv_reader = csv.reader(csv_file, delimiter='\\t', quoting=csv.QUOTE_NONE)\n",
    "        for row in csv_reader:\n",
    "            if(row[0][0] == \"#\"):\n",
    "                continue\n",
    "            eid = row[0]\n",
    "            if(row[1] == \"ERR\"):\n",
    "                continue\n",
    "            pubyear = int(row[1])\n",
    "            countries = set([x.strip() for x in row[2].strip().split(\";\") if x.strip() != \"\"])\n",
    "            paper_cou_dict[eid] = countries\n",
    "            if(row[2].strip() == \"\"):\n",
    "                continue\n",
    "            if(2000 > pubyear or pubyear > 2018):\n",
    "                continue\n",
    "            for cou in countries:\n",
    "                no_total_paper[cou] += 1\n",
    "                if(len(countries) > 1):\n",
    "                    no_collab_paper[cou] += 1                            \n",
    "            pairs = list(combinations_with_replacement(countries, 2))\n",
    "            for cou_pair in pairs:\n",
    "                cou_pair = tuple(sorted(cou_pair))\n",
    "                no_collab_pair[cou_pair] += 1     \n"
   ]
  },
  {
   "cell_type": "code",
   "execution_count": 13,
   "metadata": {},
   "outputs": [],
   "source": [
    "f_out = open(outfile_collab_paper, \"w\")\n",
    "for k, v in no_collab_paper.items():\n",
    "    f_out.write(k + \"\\t\" + str(v) + \"\\n\")\n",
    "    #print(k, v)\n",
    "f_out.close()\n",
    "\n",
    "f_out = open(outfile_collab_pair, \"w\")\n",
    "for k, v in no_collab_pair.items():\n",
    "    f_out.write(\"\\t\".join(k) + \"\\t\" + str(v) + \"\\n\")\n",
    "    #print(k, v)\n",
    "f_out.close()"
   ]
  },
  {
   "cell_type": "code",
   "execution_count": 3,
   "metadata": {},
   "outputs": [
    {
     "name": "stderr",
     "output_type": "stream",
     "text": [
      "100%|██████████| 4945/4945 [1:00:24<00:00,  1.31it/s]\n"
     ]
    }
   ],
   "source": [
    "no_citation_pair = defaultdict(int)\n",
    "\n",
    "datadir = \"/home/jhyun/workbox/00_scopus_data_test/output/20190803/citation_pair/\"\n",
    "ziplist2 = glob.glob(datadir+\"*.txt\")\n",
    "for infile_citation in tqdm_notebook(ziplist2):\n",
    "    with open(infile_citation) as csv_file:\n",
    "        csv_reader = csv.reader(csv_file, delimiter='\\t', quoting=csv.QUOTE_NONE)\n",
    "        for row in csv_reader:\n",
    "            citedby = row[0]\n",
    "            cited = row[1]\n",
    "            #print(cited)\n",
    "            if(citedby in paper_cou_dict and cited in paper_cou_dict):\n",
    "                pairs = list(product(*([paper_cou_dict[citedby], paper_cou_dict[cited]])))\n",
    "                for cit_cou_pair in pairs:\n",
    "                    no_citation_pair[cit_cou_pair] += 1"
   ]
  },
  {
   "cell_type": "code",
   "execution_count": 5,
   "metadata": {},
   "outputs": [],
   "source": [
    "\n",
    "f_out = open(outfile_total_paper, \"w\")\n",
    "for k, v in no_total_paper.items():\n",
    "    f_out.write(k + \"\\t\" + str(v) + \"\\n\")\n",
    "    #print(k, v)\n",
    "f_out.close()\n",
    "\n",
    "\n",
    "\n",
    "f_out = open(outfile_citation_pair, \"w\")\n",
    "for k, v in no_citation_pair.items():\n",
    "    f_out.write(\"\\t\".join(k) + \"\\t\" + str(v) + \"\\n\")\n",
    "    #print(k, v)\n",
    "f_out.close()"
   ]
  },
  {
   "cell_type": "code",
   "execution_count": 1,
   "metadata": {},
   "outputs": [],
   "source": [
    "from tqdm import tqdm"
   ]
  },
  {
   "cell_type": "code",
   "execution_count": 2,
   "metadata": {},
   "outputs": [
    {
     "name": "stderr",
     "output_type": "stream",
     "text": [
      "100%|██████████| 10/10 [00:05<00:00,  1.99it/s]\n"
     ]
    }
   ],
   "source": [
    "from time import sleep\n",
    "for i in tqdm(range(10)):\n",
    "    sleep(0.5)"
   ]
  },
  {
   "cell_type": "code",
   "execution_count": 4,
   "metadata": {},
   "outputs": [
    {
     "data": {
      "application/vnd.jupyter.widget-view+json": {
       "model_id": "e34fec7179b64db48cb22ce9a7998269",
       "version_major": 2,
       "version_minor": 0
      },
      "text/plain": [
       "HBox(children=(IntProgress(value=0, max=10), HTML(value='')))"
      ]
     },
     "metadata": {},
     "output_type": "display_data"
    },
    {
     "name": "stdout",
     "output_type": "stream",
     "text": [
      "\n"
     ]
    }
   ],
   "source": [
    "from tqdm import tqdm_notebook\n",
    "from time import sleep\n",
    "for i in tqdm_notebook(range(10)):\n",
    "    sleep(0.5)"
   ]
  },
  {
   "cell_type": "code",
   "execution_count": null,
   "metadata": {},
   "outputs": [],
   "source": []
  }
 ],
 "metadata": {
  "kernelspec": {
   "display_name": "Python 3",
   "language": "python",
   "name": "python3"
  },
  "language_info": {
   "codemirror_mode": {
    "name": "ipython",
    "version": 3
   },
   "file_extension": ".py",
   "mimetype": "text/x-python",
   "name": "python",
   "nbconvert_exporter": "python",
   "pygments_lexer": "ipython3",
   "version": "3.7.6"
  }
 },
 "nbformat": 4,
 "nbformat_minor": 4
}
