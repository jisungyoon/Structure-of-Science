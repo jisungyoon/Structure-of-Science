{
 "cells": [
  {
   "cell_type": "code",
   "execution_count": 1,
   "id": "627c5442-7051-404d-a245-a405b4abd091",
   "metadata": {},
   "outputs": [],
   "source": [
    "import pandas as pd\n",
    "import glob\n",
    "import csv\n",
    "import gc\n",
    "from tqdm.notebook import tqdm\n",
    "from scipy.spatial import distance\n",
    "import numpy as np\n",
    "\n",
    "datadir = \"/mnt/ResearchData/04_PATSTAT/00_PATSTAT_2019SP/\""
   ]
  },
  {
   "cell_type": "code",
   "execution_count": 2,
   "id": "372241cf-8ffc-4fea-831e-2d0420274ee4",
   "metadata": {},
   "outputs": [
    {
     "name": "stdout",
     "output_type": "stream",
     "text": [
      "['/mnt/ResearchData/04_PATSTAT/00_PATSTAT_2019SP/tls201_part01.zip', '/mnt/ResearchData/04_PATSTAT/00_PATSTAT_2019SP/tls201_part02.zip']\n"
     ]
    },
    {
     "name": "stderr",
     "output_type": "stream",
     "text": [
      "/opt/anaconda/anaconda3/lib/python3.7/site-packages/ipykernel_launcher.py:4: DtypeWarning: Columns (2) have mixed types.Specify dtype option on import or set low_memory=False.\n",
      "  after removing the cwd from sys.path.\n"
     ]
    }
   ],
   "source": [
    "tls201_files = glob.glob(datadir + \"tls201*.zip\")\n",
    "print(tls201_files)\n",
    "tls201 = pd.concat((pd.read_csv(f, compression=\"zip\", usecols=['appln_id','appln_auth','appln_nr','appln_kind',\n",
    "                                                               'appln_filing_year', 'granted']) for f in tls201_files))"
   ]
  },
  {
   "cell_type": "code",
   "execution_count": 3,
   "id": "6ca78cff-27ff-4ee2-8d32-16894e18281c",
   "metadata": {},
   "outputs": [],
   "source": [
    "# USE Patent only\n",
    "tls201 = tls201[tls201[\"appln_kind\"] ==\"A \"]"
   ]
  },
  {
   "cell_type": "code",
   "execution_count": 4,
   "id": "5b239ecc-3d9f-446c-b1a6-3e1cfe29cc7b",
   "metadata": {},
   "outputs": [
    {
     "name": "stdout",
     "output_type": "stream",
     "text": [
      "['/mnt/ResearchData/04_PATSTAT/00_PATSTAT_2019SP/tls209_part01.zip', '/mnt/ResearchData/04_PATSTAT/00_PATSTAT_2019SP/tls209_part02.zip']\n"
     ]
    }
   ],
   "source": [
    "tls209_files = glob.glob(datadir + \"tls209*.zip\")\n",
    "print(tls209_files)\n",
    "tls209 = pd.concat((pd.read_csv(f, compression=\"zip\", usecols=['appln_id','ipc_class_symbol']) for f in tls209_files))"
   ]
  },
  {
   "cell_type": "code",
   "execution_count": 5,
   "id": "c83d88e0-1777-454b-965b-1eea85797b32",
   "metadata": {},
   "outputs": [],
   "source": [
    "tls209[\"ipc_class_symbol\"] = tls209[\"ipc_class_symbol\"].str.split().str[0]\n",
    "tls209 = tls209.drop_duplicates()"
   ]
  },
  {
   "cell_type": "code",
   "execution_count": 6,
   "id": "eb7ef67d-8dc0-4e75-a409-b2686f41e0d6",
   "metadata": {},
   "outputs": [
    {
     "name": "stdout",
     "output_type": "stream",
     "text": [
      "['/mnt/ResearchData/04_PATSTAT/00_PATSTAT_2019SP/tls207_part01.zip']\n"
     ]
    }
   ],
   "source": [
    "tls207_files = glob.glob(datadir + \"tls207*.zip\")\n",
    "print(tls207_files)\n",
    "tls207 = pd.concat((pd.read_csv(f, compression=\"zip\") for f in tls207_files))"
   ]
  },
  {
   "cell_type": "code",
   "execution_count": 7,
   "id": "80dfe74e-0623-4afc-be8a-538d5a5c576c",
   "metadata": {},
   "outputs": [],
   "source": [
    "# applt_seq_nr = 0 inidcates one is not a applicant\n",
    "# invt_seq_nr = 0 inidcates one is not a applicant\n",
    "tls207_applt = tls207[tls207[\"applt_seq_nr\"] > 0][[\"person_id\", \"appln_id\"]].drop_duplicates()\n",
    "tls207_invt = tls207[tls207[\"invt_seq_nr\"] > 0][[\"person_id\", \"appln_id\"]].drop_duplicates()"
   ]
  },
  {
   "cell_type": "code",
   "execution_count": 8,
   "id": "cec24f09-60fb-429e-abdd-b3d78c45fc1d",
   "metadata": {},
   "outputs": [
    {
     "name": "stdout",
     "output_type": "stream",
     "text": [
      "['/mnt/ResearchData/04_PATSTAT/00_PATSTAT_2019SP/tls206_part01.zip', '/mnt/ResearchData/04_PATSTAT/00_PATSTAT_2019SP/tls206_part02.zip']\n"
     ]
    }
   ],
   "source": [
    "# Read Country Code for persons\n",
    "tls206_files = glob.glob(datadir + \"tls206*.zip\")\n",
    "print(tls206_files)\n",
    "tls206 = pd.concat((pd.read_csv(f, compression=\"zip\", usecols=[\"person_id\", \"person_ctry_code\"]) for f in tls206_files))"
   ]
  },
  {
   "cell_type": "code",
   "execution_count": 9,
   "id": "64b1f0cf-01aa-4ee7-a13a-ac1c03f5356f",
   "metadata": {},
   "outputs": [],
   "source": [
    "# Read Country Code and application id\n",
    "tls207_invt = tls207_invt.merge(tls206)\n",
    "tls207_applt = tls207_applt.merge(tls206)"
   ]
  },
  {
   "cell_type": "code",
   "execution_count": 16,
   "id": "7d742d59-58b2-4ebb-92a2-62b41110d75a",
   "metadata": {},
   "outputs": [],
   "source": [
    "# merge application information and person informations\n",
    "applt_table = tls201.merge(tls207_applt.merge(tls209))\n",
    "invt_table = tls201.merge(tls207_invt.merge(tls209))"
   ]
  },
  {
   "cell_type": "code",
   "execution_count": 17,
   "id": "e566a389-d532-4f1b-bce8-9288f35eb92f",
   "metadata": {},
   "outputs": [],
   "source": [
    "applt_table = applt_table.groupby([\"person_ctry_code\", \"ipc_class_symbol\", \"appln_filing_year\"])[\"appln_id\"].count().fillna(0).reset_index()\n",
    "invt_table = invt_table.groupby([\"person_ctry_code\", \"ipc_class_symbol\", \"appln_filing_year\"])[\"appln_id\"].count().fillna(0).reset_index()\n",
    "\n",
    "applt_table = applt_table.rename(columns={\"appln_id\":\"count\"}).drop_duplicates()\n",
    "invt_table = invt_table.rename(columns={\"appln_id\":\"count\"}).drop_duplicates()"
   ]
  },
  {
   "cell_type": "code",
   "execution_count": 66,
   "id": "589ecad9-27c9-40c3-bdeb-bde67ade77fb",
   "metadata": {},
   "outputs": [
    {
     "data": {
      "application/vnd.jupyter.widget-view+json": {
       "model_id": "f3495b5081e743e9864cdf888e072904",
       "version_major": 2,
       "version_minor": 0
      },
      "text/plain": [
       "  0%|          | 0/70 [00:00<?, ?it/s]"
      ]
     },
     "metadata": {},
     "output_type": "display_data"
    }
   ],
   "source": [
    "reslist = []\n",
    "for current_year in tqdm(range(1950, 2020)):\n",
    "    current = applt_table[applt_table[\"appln_filing_year\"]==current_year].set_index([\"person_ctry_code\", \"ipc_class_symbol\"])[\"count\"].unstack().fillna(0).drop(\"-\", axis=1, errors='ignore')\n",
    "    for row in current.itertuples():\n",
    "        vec1 = np.array(row[1:])\n",
    "        ctry1 = row[0]\n",
    "        for row2 in current.itertuples():\n",
    "            vec2 = np.array(row2[1:])\n",
    "            ctry2 = row2[0]\n",
    "            if(ctry1 == ctry2):\n",
    "                continue\n",
    "            else:\n",
    "                cossim = 1 - distance.cosine(vec1, vec2)\n",
    "                jacsim = 1 - distance.jaccard(vec1, vec2)\n",
    "            reslist.append((ctry1, ctry2, current_year, cossim, jacsim))\n",
    "            \n",
    "df_sim01 = pd.DataFrame(reslist, columns=[\"ctry01\", \"ctry02\", \"year\", \"cosinesim\", \"jaccardsim\"])\n",
    "df_sim01 = df_sim01[(df_sim01[\"ctry01\"] != \"  \") & (df_sim01[\"ctry02\"] !=\"  \")]\n",
    "df_sim01.to_csv(\"./SupplementaryDataGenerate/output/patstat_applt_ipc4_similarity_unnormalized.tsv\", sep=\"\\t\", index=None)"
   ]
  },
  {
   "cell_type": "code",
   "execution_count": 67,
   "id": "45e6b8f1-14ad-4dbe-a84f-22186dfa64f3",
   "metadata": {},
   "outputs": [
    {
     "data": {
      "application/vnd.jupyter.widget-view+json": {
       "model_id": "d68025b6b78241af98241379b9440683",
       "version_major": 2,
       "version_minor": 0
      },
      "text/plain": [
       "  0%|          | 0/70 [00:00<?, ?it/s]"
      ]
     },
     "metadata": {},
     "output_type": "display_data"
    }
   ],
   "source": [
    "reslist2 = []\n",
    "for current_year in tqdm(range(1950, 2020)):\n",
    "    current = invt_table[invt_table[\"appln_filing_year\"]==current_year].set_index([\"person_ctry_code\", \"ipc_class_symbol\"])[\"count\"].unstack().fillna(0).drop(\"-\", axis=1, errors='ignore')\n",
    "    for row in current.itertuples():\n",
    "        vec1 = np.array(row[1:])\n",
    "        ctry1 = row[0]\n",
    "        for row2 in current.itertuples():\n",
    "            vec2 = np.array(row2[1:])\n",
    "            ctry2 = row2[0]\n",
    "            if(ctry1 == ctry2):\n",
    "                continue\n",
    "            else:\n",
    "                cossim = 1 - distance.cosine(vec1, vec2)\n",
    "                jacsim = 1 - distance.jaccard(vec1, vec2)\n",
    "            reslist2.append((ctry1, ctry2, current_year, cossim, jacsim))\n",
    "            \n",
    "df_sim02 = pd.DataFrame(reslist, columns=[\"ctry01\", \"ctry02\", \"year\", \"cosinesim\", \"jaccardsim\"])\n",
    "df_sim02 = df_sim02[(df_sim02[\"ctry01\"] != \"  \") & (df_sim02[\"ctry02\"] !=\"  \")]\n",
    "df_sim02.to_csv(\"./SupplementaryDataGenerate/output/patstat_invt_ipc4_similarity_unnormalized.tsv\", sep=\"\\t\", index=None)"
   ]
  },
  {
   "cell_type": "code",
   "execution_count": 68,
   "id": "0ee09f73-a6e0-4aa0-a52b-21d3ce34c238",
   "metadata": {},
   "outputs": [
    {
     "data": {
      "application/vnd.jupyter.widget-view+json": {
       "model_id": "57d727facfe941c4b461bedffad24ff9",
       "version_major": 2,
       "version_minor": 0
      },
      "text/plain": [
       "  0%|          | 0/70 [00:00<?, ?it/s]"
      ]
     },
     "metadata": {},
     "output_type": "display_data"
    }
   ],
   "source": [
    "reslist3 = []\n",
    "for current_year in tqdm(range(1950, 2020)):\n",
    "    current = applt_table[applt_table[\"appln_filing_year\"]==current_year].set_index([\"person_ctry_code\", \"ipc_class_symbol\"])[\"count\"].unstack().fillna(0).drop(\"-\", axis=1, errors='ignore')\n",
    "    current = current / current.sum()    \n",
    "    for row in current.itertuples():\n",
    "        vec1 = np.array(row[1:])\n",
    "        ctry1 = row[0]\n",
    "        for row2 in current.itertuples():\n",
    "            vec2 = np.array(row2[1:])\n",
    "            ctry2 = row2[0]\n",
    "            if(ctry1 == ctry2):\n",
    "                continue\n",
    "            else:\n",
    "                cossim = 1 - distance.cosine(vec1, vec2)\n",
    "                jacsim = 1 - distance.jaccard(vec1, vec2)\n",
    "            reslist3.append((ctry1, ctry2, current_year, cossim, jacsim))\n",
    "            \n",
    "df_sim03 = pd.DataFrame(reslist3, columns=[\"ctry01\", \"ctry02\", \"year\", \"cosinesim\", \"jaccardsim\"])\n",
    "df_sim03 = df_sim03[(df_sim03[\"ctry01\"] != \"  \") & (df_sim03[\"ctry02\"] !=\"  \")]\n",
    "df_sim03.to_csv(\"./SupplementaryDataGenerate/output/patstat_applt_ipc4_similarity_ipc4normalized.tsv\", sep=\"\\t\", index=None)"
   ]
  },
  {
   "cell_type": "code",
   "execution_count": 70,
   "id": "e4ce66c4-485c-40c8-982c-64d581f513d7",
   "metadata": {},
   "outputs": [
    {
     "data": {
      "application/vnd.jupyter.widget-view+json": {
       "model_id": "049b32f6d02341548edf9256cb9b521d",
       "version_major": 2,
       "version_minor": 0
      },
      "text/plain": [
       "  0%|          | 0/70 [00:00<?, ?it/s]"
      ]
     },
     "metadata": {},
     "output_type": "display_data"
    }
   ],
   "source": [
    "reslist4 = []\n",
    "for current_year in tqdm(range(1950, 2020)):\n",
    "    current = invt_table[invt_table[\"appln_filing_year\"]==current_year].set_index([\"person_ctry_code\", \"ipc_class_symbol\"])[\"count\"].unstack().fillna(0).drop(\"-\", axis=1, errors='ignore')\n",
    "    current = current / current.sum()    \n",
    "    for row in current.itertuples():\n",
    "        vec1 = np.array(row[1:])\n",
    "        ctry1 = row[0]\n",
    "        for row2 in current.itertuples():\n",
    "            vec2 = np.array(row2[1:])\n",
    "            ctry2 = row2[0]\n",
    "            if(ctry1 == ctry2):\n",
    "                continue\n",
    "            else:\n",
    "                cossim = 1 - distance.cosine(vec1, vec2)\n",
    "                jacsim = 1 - distance.jaccard(vec1, vec2)\n",
    "            reslist4.append((ctry1, ctry2, current_year, cossim, jacsim))\n",
    "            \n",
    "df_sim04 = pd.DataFrame(reslist4, columns=[\"ctry01\", \"ctry02\", \"year\", \"cosinesim\", \"jaccardsim\"])\n",
    "df_sim04 = df_sim04[(df_sim04[\"ctry01\"] != \"  \") & (df_sim04[\"ctry01\"] !=\"  \")]\n",
    "df_sim04.to_csv(\"./SupplementaryDataGenerate/output/patstat_invt_ipc4_similarity_ipc4normalized.tsv\", sep=\"\\t\", index=None)"
   ]
  },
  {
   "cell_type": "code",
   "execution_count": null,
   "id": "fac34ca5-96b4-4857-9948-0eda479bd0e4",
   "metadata": {},
   "outputs": [],
   "source": []
  }
 ],
 "metadata": {
  "kernelspec": {
   "display_name": "Python 3",
   "language": "python",
   "name": "python3"
  },
  "language_info": {
   "codemirror_mode": {
    "name": "ipython",
    "version": 3
   },
   "file_extension": ".py",
   "mimetype": "text/x-python",
   "name": "python",
   "nbconvert_exporter": "python",
   "pygments_lexer": "ipython3",
   "version": "3.7.6"
  }
 },
 "nbformat": 4,
 "nbformat_minor": 5
}
