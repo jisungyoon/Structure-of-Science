{
 "cells": [
  {
   "cell_type": "code",
   "execution_count": 1,
   "metadata": {},
   "outputs": [],
   "source": [
    "import igraph as ig\n",
    "import pandas as pd"
   ]
  },
  {
   "cell_type": "code",
   "execution_count": 2,
   "metadata": {},
   "outputs": [],
   "source": [
    "import sys\n",
    "sys.path.append('../analysis_code/')\n",
    "import shortest_function as sfn"
   ]
  },
  {
   "cell_type": "code",
   "execution_count": 4,
   "metadata": {},
   "outputs": [],
   "source": [
    "G = ig.Graph.Read_GML('../0.preprocess_process/network_data/kowiki.gml')\n",
    "name_list = pd.read_pickle('../0.preprocess_process/network_data/kowiki.pkl')"
   ]
  },
  {
   "cell_type": "code",
   "execution_count": 5,
   "metadata": {},
   "outputs": [],
   "source": [
    "G.vs['_label'] = G.vs['label']\n",
    "G.vs['name'] = name_list\n",
    "G.vs['label'] = name_list"
   ]
  },
  {
   "cell_type": "code",
   "execution_count": 6,
   "metadata": {},
   "outputs": [
    {
     "data": {
      "text/plain": [
       "3421520"
      ]
     },
     "execution_count": 6,
     "metadata": {},
     "output_type": "execute_result"
    }
   ],
   "source": [
    "len(G.es)"
   ]
  },
  {
   "cell_type": "code",
   "execution_count": 7,
   "metadata": {},
   "outputs": [
    {
     "data": {
      "text/plain": [
       "646048"
      ]
     },
     "execution_count": 7,
     "metadata": {},
     "output_type": "execute_result"
    }
   ],
   "source": [
    "len(G.vs)"
   ]
  },
  {
   "cell_type": "code",
   "execution_count": 8,
   "metadata": {},
   "outputs": [],
   "source": [
    "root_node = '과학기술'"
   ]
  },
  {
   "cell_type": "code",
   "execution_count": 9,
   "metadata": {},
   "outputs": [],
   "source": [
    "name_list = pd.Series(G.vs['name'])\n",
    "target_index = name_list[name_list == root_node]"
   ]
  },
  {
   "cell_type": "code",
   "execution_count": 10,
   "metadata": {},
   "outputs": [
    {
     "name": "stdout",
     "output_type": "stream",
     "text": [
      "initiating calculation\n",
      "CORE 1: 0.0%\n",
      "CORE 0: 0.0%\n",
      "CORE 2: 0.0%\n",
      "CORE 4: 0.0%\n",
      "CORE 5: 0.0%\n",
      "CORE 6: 0.0%\n",
      "CORE 7: 0.0%\n",
      "CORE 3: 0.0%\n",
      "CORE 10: 0.0%\n",
      "CORE 8: 0.0%\n",
      "CORE 11: 0.0%\n",
      "CORE 9: 0.0%\n",
      "CORE 12: 0.0%\n",
      "CORE 13: 0.0%\n",
      "CORE 14: 0.0%\n",
      "result_collecting\n",
      "CORE 15: 0.0%\n",
      "CORE 16: 0.0%\n",
      "CORE 17: 0.0%\n",
      "CORE 18: 0.0%\n",
      "CORE 19: 0.0%\n",
      "CORE 15: 3.0957835428146865%\n",
      "CORE 2: 3.0956877070241156%\n",
      "CORE 13: 3.0957835428146865%\n",
      "CORE 12: 3.0957835428146865%\n",
      "CORE 19: 3.0957835428146865%\n",
      "CORE 0: 3.0956877070241156%\n",
      "CORE 16: 3.0957835428146865%\n",
      "CORE 17: 3.0957835428146865%\n",
      "CORE 4: 3.0956877070241156%\n",
      "CORE 8: 3.0957835428146865%\n",
      "CORE 11: 3.0957835428146865%\n",
      "CORE 14: 3.0957835428146865%\n",
      "CORE 1: 3.0956877070241156%\n",
      "CORE 3: 3.0956877070241156%\n",
      "CORE 10: 3.0957835428146865%\n",
      "CORE 7: 3.0956877070241156%\n",
      "CORE 9: 3.0957835428146865%\n",
      "CORE 18: 3.0957835428146865%\n",
      "CORE 5: 3.0956877070241156%\n",
      "CORE 6: 3.0956877070241156%\n",
      "CORE 15: 6.191567085629373%\n",
      "CORE 19: 6.191567085629373%\n",
      "CORE 0: 6.191375414048231%\n",
      "CORE 17: 6.191567085629373%\n",
      "CORE 10: 6.191567085629373%\n",
      "CORE 2: 6.191375414048231%\n",
      "CORE 1: 6.191375414048231%\n",
      "CORE 13: 6.191567085629373%\n",
      "CORE 16: 6.191567085629373%\n",
      "CORE 11: 6.191567085629373%\n",
      "CORE 3: 6.191375414048231%\n",
      "CORE 12: 6.191567085629373%\n",
      "CORE 8: 6.191567085629373%\n",
      "CORE 4: 6.191375414048231%\n",
      "CORE 14: 6.191567085629373%\n",
      "CORE 18: 6.191567085629373%\n",
      "CORE 7: 6.191375414048231%\n",
      "CORE 9: 6.191567085629373%\n",
      "CORE 5: 6.191375414048231%\n",
      "CORE 6: 6.191375414048231%\n",
      "CORE 15: 9.28735062844406%\n",
      "CORE 17: 9.28735062844406%\n",
      "CORE 2: 9.287063121072347%\n",
      "CORE 1: 9.287063121072347%\n",
      "CORE 10: 9.28735062844406%\n",
      "CORE 12: 9.28735062844406%\n",
      "CORE 16: 9.28735062844406%\n",
      "CORE 18: 9.28735062844406%\n",
      "CORE 11: 9.28735062844406%\n",
      "CORE 14: 9.28735062844406%\n",
      "CORE 6: 9.287063121072347%\n",
      "CORE 0: 9.287063121072347%\n",
      "CORE 13: 9.28735062844406%\n",
      "CORE 19: 9.28735062844406%\n",
      "CORE 8: 9.28735062844406%\n",
      "CORE 3: 9.287063121072347%\n",
      "CORE 7: 9.287063121072347%\n",
      "CORE 5: 9.287063121072347%\n",
      "CORE 9: 9.28735062844406%\n",
      "CORE 4: 9.287063121072347%\n",
      "CORE 15: 12.383134171258746%\n",
      "CORE 12: 12.383134171258746%\n",
      "CORE 16: 12.383134171258746%\n",
      "CORE 2: 12.382750828096462%\n",
      "CORE 18: 12.383134171258746%\n",
      "CORE 11: 12.383134171258746%\n",
      "CORE 17: 12.383134171258746%\n",
      "CORE 1: 12.382750828096462%\n",
      "CORE 10: 12.383134171258746%\n",
      "CORE 6: 12.382750828096462%\n",
      "CORE 14: 12.383134171258746%\n",
      "CORE 5: 12.382750828096462%\n",
      "CORE 8: 12.383134171258746%\n",
      "CORE 9: 12.383134171258746%\n",
      "CORE 19: 12.383134171258746%\n",
      "CORE 3: 12.382750828096462%\n",
      "CORE 7: 12.382750828096462%\n",
      "CORE 0: 12.382750828096462%\n",
      "CORE 4: 12.382750828096462%\n",
      "CORE 13: 12.383134171258746%\n",
      "CORE 12: 15.47891771407343%\n",
      "CORE 6: 15.478438535120578%\n",
      "CORE 1: 15.478438535120578%\n",
      "CORE 15: 15.47891771407343%\n",
      "CORE 14: 15.47891771407343%\n",
      "CORE 11: 15.47891771407343%\n",
      "CORE 8: 15.47891771407343%\n",
      "CORE 2: 15.478438535120578%\n",
      "CORE 17: 15.47891771407343%\n",
      "CORE 16: 15.47891771407343%\n",
      "CORE 18: 15.47891771407343%\n",
      "CORE 7: 15.478438535120578%\n",
      "CORE 10: 15.47891771407343%\n",
      "CORE 5: 15.478438535120578%\n",
      "CORE 19: 15.47891771407343%\n",
      "CORE 3: 15.478438535120578%\n",
      "CORE 9: 15.47891771407343%\n",
      "CORE 4: 15.478438535120578%\n",
      "CORE 0: 15.478438535120578%\n",
      "CORE 13: 15.47891771407343%\n",
      "CORE 14: 18.57470125688812%\n",
      "CORE 6: 18.574126242144693%\n",
      "CORE 1: 18.574126242144693%\n",
      "CORE 8: 18.57470125688812%\n",
      "CORE 12: 18.57470125688812%\n",
      "CORE 15: 18.57470125688812%\n",
      "CORE 11: 18.57470125688812%\n",
      "CORE 7: 18.574126242144693%\n",
      "CORE 18: 18.57470125688812%\n",
      "CORE 2: 18.574126242144693%\n",
      "CORE 5: 18.574126242144693%\n",
      "CORE 17: 18.57470125688812%\n",
      "CORE 16: 18.57470125688812%\n",
      "CORE 19: 18.57470125688812%\n",
      "CORE 10: 18.57470125688812%\n",
      "CORE 13: 18.57470125688812%\n",
      "CORE 9: 18.57470125688812%\n",
      "CORE 3: 18.574126242144693%\n",
      "CORE 4: 18.574126242144693%\n",
      "CORE 0: 18.574126242144693%\n",
      "CORE 14: 21.670484799702805%\n",
      "CORE 6: 21.66981394916881%\n",
      "CORE 15: 21.670484799702805%\n",
      "CORE 1: 21.66981394916881%\n",
      "CORE 8: 21.670484799702805%\n",
      "CORE 12: 21.670484799702805%\n",
      "CORE 11: 21.670484799702805%\n",
      "CORE 17: 21.670484799702805%\n",
      "CORE 18: 21.670484799702805%\n",
      "CORE 5: 21.66981394916881%\n",
      "CORE 7: 21.66981394916881%\n",
      "CORE 2: 21.66981394916881%\n",
      "CORE 13: 21.670484799702805%\n",
      "CORE 16: 21.670484799702805%\n",
      "CORE 19: 21.670484799702805%\n",
      "CORE 9: 21.670484799702805%\n",
      "CORE 4: 21.66981394916881%\n",
      "CORE 3: 21.66981394916881%\n",
      "CORE 10: 21.670484799702805%\n",
      "CORE 0: 21.66981394916881%\n",
      "CORE 14: 24.766268342517492%\n",
      "CORE 6: 24.765501656192924%\n",
      "CORE 15: 24.766268342517492%\n",
      "CORE 1: 24.765501656192924%\n",
      "CORE 8: 24.766268342517492%\n",
      "CORE 17: 24.766268342517492%\n",
      "CORE 11: 24.766268342517492%\n",
      "CORE 12: 24.766268342517492%\n",
      "CORE 13: 24.766268342517492%\n",
      "CORE 18: 24.766268342517492%\n",
      "CORE 5: 24.765501656192924%\n",
      "CORE 16: 24.766268342517492%\n",
      "CORE 2: 24.765501656192924%\n",
      "CORE 7: 24.765501656192924%\n",
      "CORE 19: 24.766268342517492%\n",
      "CORE 9: 24.766268342517492%\n",
      "CORE 3: 24.765501656192924%\n",
      "CORE 10: 24.766268342517492%\n",
      "CORE 14: 27.86205188533218%\n",
      "CORE 0: 24.765501656192924%\n",
      "CORE 6: 27.861189363217036%\n",
      "CORE 4: 24.765501656192924%\n",
      "CORE 15: 27.86205188533218%\n",
      "CORE 1: 27.861189363217036%\n",
      "CORE 8: 27.86205188533218%\n",
      "CORE 17: 27.86205188533218%\n",
      "CORE 11: 27.86205188533218%\n",
      "CORE 12: 27.86205188533218%\n",
      "CORE 13: 27.86205188533218%\n",
      "CORE 5: 27.861189363217036%\n",
      "CORE 7: 27.861189363217036%\n",
      "CORE 19: 27.86205188533218%\n",
      "CORE 16: 27.86205188533218%\n",
      "CORE 9: 27.86205188533218%\n",
      "CORE 18: 27.86205188533218%\n",
      "CORE 2: 27.861189363217036%\n",
      "CORE 3: 27.861189363217036%\n",
      "CORE 14: 30.95783542814686%\n",
      "CORE 6: 30.956877070241156%\n",
      "CORE 10: 27.86205188533218%\n",
      "CORE 15: 30.95783542814686%\n",
      "CORE 1: 30.956877070241156%\n",
      "CORE 8: 30.95783542814686%\n",
      "CORE 4: 27.861189363217036%\n",
      "CORE 0: 27.861189363217036%\n",
      "CORE 17: 30.95783542814686%\n",
      "CORE 13: 30.95783542814686%\n",
      "CORE 11: 30.95783542814686%\n",
      "CORE 12: 30.95783542814686%\n",
      "CORE 19: 30.95783542814686%\n",
      "CORE 5: 30.956877070241156%\n",
      "CORE 16: 30.95783542814686%\n",
      "CORE 7: 30.956877070241156%\n",
      "CORE 9: 30.95783542814686%\n",
      "CORE 18: 30.95783542814686%\n",
      "CORE 2: 30.956877070241156%\n",
      "CORE 14: 34.05361897096155%\n",
      "CORE 6: 34.05256477726527%\n",
      "CORE 15: 34.05361897096155%\n",
      "CORE 3: 30.956877070241156%\n",
      "CORE 1: 34.05256477726527%\n",
      "CORE 8: 34.05361897096155%\n",
      "CORE 10: 30.95783542814686%\n",
      "CORE 4: 30.956877070241156%\n",
      "CORE 17: 34.05361897096155%\n",
      "CORE 0: 30.956877070241156%\n",
      "CORE 13: 34.05361897096155%\n",
      "CORE 12: 34.05361897096155%\n",
      "CORE 11: 34.05361897096155%\n",
      "CORE 5: 34.05256477726527%\n",
      "CORE 16: 34.05361897096155%\n",
      "CORE 19: 34.05361897096155%\n",
      "CORE 6: 37.14825248428939%\n",
      "CORE 15: 37.14940251377624%\n",
      "CORE 9: 34.05361897096155%\n",
      "CORE 8: 37.14940251377624%\n",
      "CORE 18: 34.05361897096155%\n",
      "CORE 1: 37.14825248428939%\n",
      "CORE 7: 34.05256477726527%\n",
      "CORE 14: 37.14940251377624%\n",
      "CORE 2: 34.05256477726527%\n",
      "CORE 17: 37.14940251377624%\n",
      "CORE 3: 34.05256477726527%\n",
      "CORE 4: 34.05256477726527%\n",
      "CORE 10: 34.05361897096155%\n",
      "CORE 0: 34.05256477726527%\n",
      "CORE 12: 37.14940251377624%\n",
      "CORE 6: 40.2439401913135%\n",
      "CORE 15: 40.245186056590924%\n",
      "CORE 13: 37.14940251377624%\n",
      "CORE 16: 37.14940251377624%\n",
      "CORE 8: 40.245186056590924%\n",
      "CORE 1: 40.2439401913135%\n",
      "CORE 5: 37.14825248428939%\n",
      "CORE 11: 37.14940251377624%\n",
      "CORE 9: 37.14940251377624%\n",
      "CORE 18: 37.14940251377624%\n",
      "CORE 19: 37.14940251377624%\n",
      "CORE 17: 40.245186056590924%\n",
      "CORE 14: 40.245186056590924%\n",
      "CORE 7: 37.14825248428939%\n",
      "CORE 2: 37.14825248428939%\n",
      "CORE 10: 37.14940251377624%\n",
      "CORE 3: 37.14825248428939%\n",
      "CORE 4: 37.14825248428939%\n",
      "CORE 0: 37.14825248428939%\n",
      "CORE 6: 43.33962789833762%\n",
      "CORE 12: 40.245186056590924%\n",
      "CORE 15: 43.34096959940561%\n",
      "CORE 13: 40.245186056590924%\n",
      "CORE 8: 43.34096959940561%\n",
      "CORE 1: 43.33962789833762%\n",
      "CORE 16: 40.245186056590924%\n",
      "CORE 17: 43.34096959940561%\n",
      "CORE 9: 40.245186056590924%\n",
      "CORE 18: 40.245186056590924%\n",
      "CORE 11: 40.245186056590924%\n",
      "CORE 5: 40.2439401913135%\n",
      "CORE 14: 43.34096959940561%\n",
      "CORE 7: 40.2439401913135%\n",
      "CORE 19: 40.245186056590924%\n",
      "CORE 2: 40.2439401913135%\n",
      "CORE 10: 40.245186056590924%\n",
      "CORE 3: 40.2439401913135%\n",
      "CORE 4: 40.2439401913135%\n",
      "CORE 6: 46.43531560536173%\n",
      "CORE 0: 40.2439401913135%\n",
      "CORE 15: 46.4367531422203%\n",
      "CORE 13: 43.34096959940561%\n",
      "CORE 8: 46.4367531422203%\n",
      "CORE 1: 46.43531560536173%\n",
      "CORE 12: 43.34096959940561%\n",
      "CORE 16: 43.34096959940561%\n",
      "CORE 17: 46.4367531422203%\n",
      "CORE 9: 43.34096959940561%\n",
      "CORE 11: 43.34096959940561%\n",
      "CORE 18: 43.34096959940561%\n",
      "CORE 7: 43.33962789833762%\n",
      "CORE 14: 46.4367531422203%\n",
      "CORE 5: 43.33962789833762%\n",
      "CORE 2: 43.33962789833762%\n",
      "CORE 15: 49.532536685034984%\n",
      "CORE 13: 46.4367531422203%\n",
      "CORE 10: 43.34096959940561%\n",
      "CORE 8: 49.532536685034984%\n",
      "CORE 19: 43.34096959940561%\n",
      "CORE 4: 43.33962789833762%\n",
      "CORE 3: 43.33962789833762%\n",
      "CORE 1: 49.53100331238585%\n",
      "CORE 0: 43.33962789833762%\n",
      "CORE 12: 46.4367531422203%\n",
      "CORE 6: 49.53100331238585%\n",
      "CORE 16: 46.4367531422203%\n",
      "CORE 17: 49.532536685034984%\n",
      "CORE 9: 46.4367531422203%\n",
      "CORE 11: 46.4367531422203%\n",
      "CORE 18: 46.4367531422203%\n",
      "CORE 14: 49.532536685034984%\n",
      "CORE 5: 46.43531560536173%\n",
      "CORE 7: 46.43531560536173%\n",
      "CORE 13: 49.532536685034984%\n",
      "CORE 15: 52.62832022784967%\n",
      "CORE 8: 52.62832022784967%\n",
      "CORE 2: 46.43531560536173%\n",
      "CORE 19: 46.4367531422203%\n",
      "CORE 4: 46.43531560536173%\n",
      "CORE 3: 46.43531560536173%\n",
      "CORE 10: 46.4367531422203%\n",
      "CORE 1: 52.62669101940997%\n",
      "CORE 6: 52.62669101940997%\n",
      "CORE 12: 49.532536685034984%\n",
      "CORE 0: 46.43531560536173%\n",
      "CORE 16: 49.532536685034984%\n",
      "CORE 18: 49.532536685034984%\n",
      "CORE 5: 49.53100331238585%\n",
      "CORE 11: 49.532536685034984%\n",
      "CORE 13: 52.62832022784967%\n",
      "CORE 9: 49.532536685034984%\n",
      "CORE 17: 52.62832022784967%\n",
      "CORE 8: 55.72410377066436%\n",
      "CORE 14: 52.62832022784967%\n",
      "CORE 7: 49.53100331238585%\n",
      "CORE 15: 55.72410377066436%\n",
      "CORE 3: 49.53100331238585%\n",
      "CORE 1: 55.72237872643407%\n",
      "CORE 2: 49.53100331238585%\n",
      "CORE 19: 49.532536685034984%\n",
      "CORE 4: 49.53100331238585%\n",
      "CORE 10: 49.532536685034984%\n",
      "CORE 6: 55.72237872643407%\n",
      "CORE 12: 52.62832022784967%\n",
      "CORE 16: 52.62832022784967%\n",
      "CORE 0: 49.53100331238585%\n",
      "CORE 18: 52.62832022784967%\n",
      "CORE 5: 52.62669101940997%\n",
      "CORE 8: 58.81988731347904%\n",
      "CORE 13: 55.72410377066436%\n",
      "CORE 17: 55.72410377066436%\n",
      "CORE 14: 55.72410377066436%\n",
      "CORE 15: 58.81988731347904%\n",
      "CORE 9: 52.62832022784967%\n",
      "CORE 3: 52.62669101940997%\n",
      "CORE 11: 52.62832022784967%\n",
      "CORE 7: 52.62669101940997%\n",
      "CORE 1: 58.81806643345819%\n",
      "CORE 10: 52.62832022784967%\n",
      "CORE 2: 52.62669101940997%\n",
      "CORE 19: 52.62832022784967%\n",
      "CORE 6: 58.81806643345819%\n",
      "CORE 4: 52.62669101940997%\n",
      "CORE 12: 55.72410377066436%\n",
      "CORE 16: 55.72410377066436%\n",
      "CORE 0: 52.62669101940997%\n",
      "CORE 18: 55.72410377066436%\n",
      "CORE 8: 61.91567085629372%\n",
      "CORE 13: 58.81988731347904%\n",
      "CORE 17: 58.81988731347904%\n",
      "CORE 5: 55.72237872643407%\n",
      "CORE 15: 61.91567085629372%\n",
      "CORE 14: 58.81988731347904%\n",
      "CORE 3: 55.72237872643407%\n",
      "CORE 1: 61.91375414048231%\n",
      "CORE 9: 55.72410377066436%\n",
      "CORE 7: 55.72237872643407%\n",
      "CORE 11: 55.72410377066436%\n",
      "CORE 10: 55.72410377066436%\n",
      "CORE 6: 61.91375414048231%\n",
      "CORE 2: 55.72237872643407%\n",
      "CORE 19: 55.72410377066436%\n",
      "CORE 12: 58.81988731347904%\n",
      "CORE 4: 55.72237872643407%\n",
      "CORE 16: 58.81988731347904%\n",
      "CORE 18: 58.81988731347904%\n",
      "CORE 13: 61.91567085629372%\n",
      "CORE 17: 61.91567085629372%\n",
      "CORE 15: 65.01145439910842%\n",
      "CORE 3: 58.81806643345819%\n",
      "CORE 0: 55.72237872643407%\n",
      "CORE 1: 65.00944184750642%\n",
      "CORE 8: 65.01145439910842%\n",
      "CORE 5: 58.81806643345819%\n",
      "CORE 14: 61.91567085629372%\n",
      "CORE 9: 58.81988731347904%\n",
      "CORE 7: 58.81806643345819%\n",
      "CORE 11: 58.81988731347904%\n",
      "CORE 10: 58.81988731347904%\n",
      "CORE 18: 61.91567085629372%\n",
      "CORE 2: 58.81806643345819%\n",
      "CORE 6: 65.00944184750642%\n",
      "CORE 12: 61.91567085629372%\n",
      "CORE 13: 65.01145439910842%\n",
      "CORE 17: 65.01145439910842%\n",
      "CORE 16: 61.91567085629372%\n",
      "CORE 4: 58.81806643345819%\n",
      "CORE 19: 58.81988731347904%\n",
      "CORE 15: 68.1072379419231%\n",
      "CORE 1: 68.10512955453054%\n",
      "CORE 3: 61.91375414048231%\n",
      "CORE 0: 58.81806643345819%\n",
      "CORE 8: 68.1072379419231%\n",
      "CORE 14: 65.01145439910842%\n",
      "CORE 5: 61.91375414048231%\n",
      "CORE 7: 61.91375414048231%\n",
      "CORE 9: 61.91567085629372%\n",
      "CORE 18: 65.01145439910842%\n",
      "CORE 11: 61.91567085629372%\n",
      "CORE 17: 68.1072379419231%\n",
      "CORE 10: 61.91567085629372%\n",
      "CORE 15: 71.20302148473779%\n",
      "CORE 6: 68.10512955453054%\n",
      "CORE 1: 71.20081726155465%\n",
      "CORE 2: 61.91375414048231%\n",
      "CORE 16: 65.01145439910842%\n",
      "CORE 12: 65.01145439910842%\n",
      "CORE 19: 61.91567085629372%\n",
      "CORE 4: 61.91375414048231%\n",
      "CORE 13: 68.1072379419231%\n",
      "CORE 3: 65.00944184750642%\n",
      "CORE 18: 68.1072379419231%\n",
      "CORE 0: 61.91375414048231%\n",
      "CORE 14: 68.1072379419231%\n",
      "CORE 8: 71.20302148473779%\n",
      "CORE 17: 71.20302148473779%\n",
      "CORE 5: 65.00944184750642%\n",
      "CORE 11: 65.01145439910842%\n",
      "CORE 1: 74.29650496857877%\n",
      "CORE 7: 65.00944184750642%\n",
      "CORE 9: 65.01145439910842%\n",
      "CORE 10: 65.01145439910842%\n",
      "CORE 15: 74.29880502755248%\n",
      "CORE 2: 65.00944184750642%\n",
      "CORE 6: 71.20081726155465%\n",
      "CORE 16: 68.1072379419231%\n",
      "CORE 19: 65.01145439910842%\n",
      "CORE 4: 65.00944184750642%\n",
      "CORE 12: 68.1072379419231%\n",
      "CORE 13: 71.20302148473779%\n",
      "CORE 18: 71.20302148473779%\n",
      "CORE 17: 74.29880502755248%\n",
      "CORE 3: 68.10512955453054%\n",
      "CORE 1: 77.39219267560289%\n",
      "CORE 0: 65.00944184750642%\n",
      "CORE 14: 71.20302148473779%\n",
      "CORE 8: 74.29880502755248%\n",
      "CORE 5: 68.10512955453054%\n",
      "CORE 11: 68.1072379419231%\n",
      "CORE 9: 68.1072379419231%\n",
      "CORE 7: 68.10512955453054%\n",
      "CORE 10: 68.1072379419231%\n",
      "CORE 2: 68.10512955453054%\n",
      "CORE 15: 77.39458857036716%\n",
      "CORE 6: 74.29650496857877%\n",
      "CORE 18: 74.29880502755248%\n",
      "CORE 16: 71.20302148473779%\n",
      "CORE 17: 77.39458857036716%\n",
      "CORE 4: 68.10512955453054%\n",
      "CORE 13: 74.29880502755248%\n",
      "CORE 1: 80.487880382627%\n",
      "CORE 19: 68.1072379419231%\n",
      "CORE 12: 71.20302148473779%\n",
      "CORE 3: 71.20081726155465%\n",
      "CORE 14: 74.29880502755248%\n",
      "CORE 0: 68.10512955453054%\n",
      "CORE 8: 77.39458857036716%\n",
      "CORE 5: 71.20081726155465%\n",
      "CORE 11: 71.20302148473779%\n",
      "CORE 15: 80.49037211318185%\n",
      "CORE 7: 71.20081726155465%\n",
      "CORE 9: 71.20302148473779%\n",
      "CORE 2: 71.20081726155465%\n",
      "CORE 17: 80.49037211318185%\n",
      "CORE 1: 83.58356808965112%\n",
      "CORE 10: 71.20302148473779%\n",
      "CORE 16: 74.29880502755248%\n",
      "CORE 6: 77.39219267560289%\n",
      "CORE 18: 77.39458857036716%\n",
      "CORE 4: 71.20081726155465%\n",
      "CORE 13: 77.39458857036716%\n",
      "CORE 19: 71.20302148473779%\n",
      "CORE 12: 74.29880502755248%\n",
      "CORE 3: 74.29650496857877%\n",
      "CORE 5: 74.29650496857877%\n",
      "CORE 0: 71.20081726155465%\n",
      "CORE 11: 74.29880502755248%\n",
      "CORE 14: 77.39458857036716%\n",
      "CORE 17: 83.58615565599654%\n",
      "CORE 15: 83.58615565599654%\n",
      "CORE 8: 80.49037211318185%\n",
      "CORE 1: 86.67925579667524%\n",
      "CORE 2: 74.29650496857877%\n",
      "CORE 9: 74.29880502755248%\n",
      "CORE 7: 74.29650496857877%\n",
      "CORE 10: 74.29880502755248%\n",
      "CORE 18: 80.49037211318185%\n",
      "CORE 6: 80.487880382627%\n",
      "CORE 16: 77.39458857036716%\n",
      "CORE 4: 74.29650496857877%\n",
      "CORE 13: 80.49037211318185%\n",
      "CORE 12: 77.39458857036716%\n",
      "CORE 5: 77.39219267560289%\n",
      "CORE 19: 74.29880502755248%\n",
      "CORE 17: 86.68193919881122%\n",
      "CORE 3: 77.39219267560289%\n",
      "CORE 1: 89.77494350369935%\n",
      "CORE 15: 86.68193919881122%\n",
      "CORE 11: 77.39458857036716%\n",
      "CORE 14: 80.49037211318185%\n",
      "CORE 0: 74.29650496857877%\n",
      "CORE 8: 83.58615565599654%\n",
      "CORE 2: 77.39219267560289%\n",
      "CORE 10: 77.39458857036716%\n",
      "CORE 9: 77.39458857036716%\n",
      "CORE 7: 77.39219267560289%\n",
      "CORE 12: 80.49037211318185%\n",
      "CORE 18: 83.58615565599654%\n",
      "CORE 6: 83.58356808965112%\n",
      "CORE 5: 80.487880382627%\n",
      "CORE 16: 80.49037211318185%\n",
      "CORE 4: 77.39219267560289%\n",
      "CORE 13: 83.58615565599654%\n",
      "CORE 17: 89.77772274162591%\n",
      "CORE 1: 92.87063121072346%\n",
      "CORE 19: 77.39458857036716%\n",
      "CORE 3: 80.487880382627%\n",
      "CORE 15: 89.77772274162591%\n",
      "CORE 11: 80.49037211318185%\n",
      "CORE 14: 83.58615565599654%\n",
      "CORE 8: 86.68193919881122%\n",
      "CORE 0: 77.39219267560289%\n",
      "CORE 2: 80.487880382627%\n",
      "CORE 9: 80.49037211318185%\n",
      "CORE 10: 80.49037211318185%\n",
      "CORE 12: 83.58615565599654%\n",
      "CORE 5: 83.58356808965112%\n",
      "CORE 7: 80.487880382627%\n",
      "CORE 6: 86.67925579667524%\n",
      "CORE 18: 86.68193919881122%\n",
      "CORE 16: 83.58615565599654%\n",
      "CORE 4: 80.487880382627%\n",
      "CORE 17: 92.8735062844406%\n",
      "CORE 13: 86.68193919881122%\n",
      "CORE 1: 95.96631891774757%\n",
      "CORE 11: 83.58615565599654%\n",
      "CORE 15: 92.8735062844406%\n",
      "CORE 19: 80.49037211318185%\n",
      "CORE 14: 86.68193919881122%\n",
      "CORE 3: 83.58356808965112%\n",
      "CORE 0: 80.487880382627%\n",
      "CORE 8: 89.77772274162591%\n",
      "CORE 10: 83.58615565599654%\n",
      "CORE 12: 86.68193919881122%\n",
      "CORE 5: 86.67925579667524%\n",
      "CORE 2: 83.58356808965112%\n",
      "CORE 9: 83.58615565599654%\n",
      "CORE 18: 89.77772274162591%\n",
      "CORE 7: 83.58356808965112%\n",
      "CORE 6: 89.77494350369935%\n",
      "CORE 13: 89.77772274162591%\n",
      "CORE 16: 86.68193919881122%\n",
      "CORE 4: 83.58356808965112%\n",
      "CORE 17: 95.96928982725528%\n",
      "CORE 11: 86.68193919881122%\n",
      "CORE 15: 95.96928982725528%\n",
      "CORE 1: 99.0620066247717%\n",
      "CORE 19: 83.58615565599654%\n",
      "CORE 14: 89.77772274162591%\n",
      "CORE 3: 86.67925579667524%\n",
      "CORE 5: 89.77494350369935%\n",
      "CORE 12: 89.77772274162591%\n",
      "CORE 0: 83.58356808965112%\n",
      "CORE 8: 92.8735062844406%\n",
      "core 1 process_completed\n",
      "CORE 10: 86.68193919881122%\n",
      "CORE 18: 92.8735062844406%\n",
      "CORE 2: 86.67925579667524%\n",
      "CORE 13: 92.8735062844406%\n",
      "CORE 9: 86.68193919881122%\n",
      "CORE 6: 92.87063121072346%\n",
      "CORE 7: 86.67925579667524%\n",
      "CORE 16: 89.77772274162591%\n",
      "CORE 17: 99.06507337006997%\n",
      "CORE 11: 89.77772274162591%\n",
      "CORE 4: 86.67925579667524%\n",
      "CORE 15: 99.06507337006997%\n",
      "core 17 process_completed\n",
      "CORE 19: 86.68193919881122%\n",
      "core 15 process_completed\n",
      "CORE 14: 92.8735062844406%\n",
      "CORE 5: 92.87063121072346%\n",
      "CORE 12: 92.8735062844406%\n",
      "CORE 3: 89.77494350369935%\n",
      "CORE 0: 86.67925579667524%\n",
      "CORE 8: 95.96928982725528%\n",
      "CORE 10: 89.77772274162591%\n",
      "CORE 2: 89.77494350369935%\n",
      "CORE 18: 95.96928982725528%\n",
      "CORE 13: 95.96928982725528%\n",
      "CORE 9: 89.77772274162591%\n",
      "CORE 6: 95.96631891774757%\n",
      "CORE 16: 92.8735062844406%\n",
      "CORE 7: 89.77494350369935%\n",
      "CORE 11: 92.8735062844406%\n",
      "CORE 4: 89.77494350369935%\n",
      "CORE 19: 89.77772274162591%\n",
      "CORE 14: 95.96928982725528%\n",
      "CORE 5: 95.96631891774757%\n",
      "CORE 12: 95.96928982725528%\n",
      "CORE 8: 99.06507337006997%\n",
      "CORE 0: 89.77494350369935%\n",
      "CORE 3: 92.87063121072346%\n",
      "CORE 10: 92.8735062844406%\n",
      "CORE 2: 92.87063121072346%\n",
      "CORE 18: 99.06507337006997%\n",
      "CORE 13: 99.06507337006997%\n",
      "CORE 6: 99.0620066247717%\n",
      "CORE 9: 92.8735062844406%\n",
      "core 8 process_completed\n",
      "CORE 16: 95.96928982725528%\n",
      "CORE 7: 92.87063121072346%\n",
      "CORE 11: 95.96928982725528%\n",
      "core 18 process_completed\n",
      "CORE 4: 92.87063121072346%\n",
      "core 13 process_completed\n",
      "core 6 process_completed\n",
      "CORE 19: 92.8735062844406%\n",
      "CORE 14: 99.06507337006997%\n",
      "CORE 5: 99.0620066247717%\n",
      "CORE 12: 99.06507337006997%\n",
      "CORE 0: 92.87063121072346%\n",
      "CORE 3: 95.96631891774757%\n",
      "CORE 10: 95.96928982725528%\n",
      "core 5 process_completed\n",
      "core 14 process_completed\n",
      "CORE 2: 95.96631891774757%\n",
      "CORE 9: 95.96928982725528%\n",
      "core 12 process_completed\n",
      "CORE 11: 99.06507337006997%\n",
      "CORE 16: 99.06507337006997%\n",
      "CORE 7: 95.96631891774757%\n",
      "CORE 4: 95.96631891774757%\n",
      "core 11 process_completed\n",
      "core 16 process_completed\n",
      "CORE 19: 95.96928982725528%\n",
      "CORE 9: 99.06507337006997%\n",
      "CORE 0: 95.96631891774757%\n",
      "CORE 3: 99.0620066247717%\n",
      "CORE 10: 99.06507337006997%\n",
      "CORE 2: 99.0620066247717%\n",
      "core 9 process_completed\n",
      "core 3 process_completed\n",
      "CORE 4: 99.0620066247717%\n",
      "core 10 process_completed\n",
      "CORE 7: 99.0620066247717%\n",
      "core 2 process_completed\n",
      "core 4 process_completed\n",
      "CORE 19: 99.06507337006997%\n",
      "core 7 process_completed\n",
      "CORE 0: 99.0620066247717%\n",
      "core 19 process_completed\n",
      "core 0 process_completed\n",
      "output_queue_closed\n",
      "process_closed\n"
     ]
    }
   ],
   "source": [
    "path_arrays = sfn.calculate_all_shortest_path(G, target_index)"
   ]
  },
  {
   "cell_type": "code",
   "execution_count": 11,
   "metadata": {},
   "outputs": [
    {
     "data": {
      "text/plain": [
       "646048"
      ]
     },
     "execution_count": 11,
     "metadata": {},
     "output_type": "execute_result"
    }
   ],
   "source": [
    "len(path_arrays)"
   ]
  },
  {
   "cell_type": "code",
   "execution_count": 14,
   "metadata": {},
   "outputs": [],
   "source": [
    "len_arrays= [(len(paths[0]), len(paths)) for i, paths in enumerate(path_arrays)]\n",
    "shortest_arrays = [x[0] for x in len_arrays]\n",
    "path_number_arrays = [x[1] for x in len_arrays]"
   ]
  },
  {
   "cell_type": "code",
   "execution_count": 15,
   "metadata": {},
   "outputs": [],
   "source": [
    "G.vs['shortest_path'] = shortest_arrays"
   ]
  },
  {
   "cell_type": "code",
   "execution_count": 16,
   "metadata": {},
   "outputs": [],
   "source": [
    "import numpy as np\n",
    "np.save('calculate_result/path_array_ko', np.array(path_arrays))\n",
    "np.save('calculate_result/path_number_before_ko', np.array(path_number_arrays))\n",
    "np.save('calculate_result/path_length_before_ko', np.array(shortest_arrays))"
   ]
  },
  {
   "cell_type": "code",
   "execution_count": 17,
   "metadata": {},
   "outputs": [
    {
     "data": {
      "text/plain": [
       "279"
      ]
     },
     "execution_count": 17,
     "metadata": {},
     "output_type": "execute_result"
    }
   ],
   "source": [
    "max(path_number_arrays)"
   ]
  },
  {
   "cell_type": "code",
   "execution_count": 18,
   "metadata": {},
   "outputs": [
    {
     "data": {
      "text/plain": [
       "15"
      ]
     },
     "execution_count": 18,
     "metadata": {},
     "output_type": "execute_result"
    }
   ],
   "source": [
    "max(shortest_arrays)"
   ]
  },
  {
   "cell_type": "code",
   "execution_count": 19,
   "metadata": {},
   "outputs": [
    {
     "name": "stdout",
     "output_type": "stream",
     "text": [
      "0\n",
      "100000\n",
      "200000\n",
      "300000\n",
      "400000\n",
      "500000\n",
      "600000\n"
     ]
    }
   ],
   "source": [
    "importance_array = np.zeros(len(G.es))\n",
    "importance_per_node = 1/len(G.es)\n",
    "for idx, paths in enumerate(path_arrays):\n",
    "    importance_per_path = importance_per_node/len(paths)\n",
    "    for path in paths:\n",
    "        eids = G.get_eids(path=path)\n",
    "        if len(eids) != 0:\n",
    "            importance_array[eids] += importance_per_path\n",
    "    if idx % 100000 == 0:\n",
    "        print(idx)"
   ]
  },
  {
   "cell_type": "code",
   "execution_count": 20,
   "metadata": {},
   "outputs": [
    {
     "data": {
      "text/plain": [
       "2452723"
      ]
     },
     "execution_count": 20,
     "metadata": {},
     "output_type": "execute_result"
    }
   ],
   "source": [
    "len(importance_array[importance_array == 0])"
   ]
  },
  {
   "cell_type": "code",
   "execution_count": 21,
   "metadata": {},
   "outputs": [],
   "source": [
    "G.es['importance'] = importance_array\n",
    "importance_array = pd.Series(importance_array)"
   ]
  },
  {
   "cell_type": "code",
   "execution_count": 22,
   "metadata": {},
   "outputs": [
    {
     "data": {
      "image/png": "[encoded data removed]",
      "text/plain": [
       "<matplotlib.figure.Figure at 0x7f02f52a12e8>"
      ]
     },
     "metadata": {},
     "output_type": "display_data"
    }
   ],
   "source": [
    "import matplotlib.pyplot as plt\n",
    "plt.hist(importance_array)\n",
    "plt.yscale('log', nonposy='clip')\n",
    "plt.show()"
   ]
  },
  {
   "cell_type": "code",
   "execution_count": 23,
   "metadata": {},
   "outputs": [],
   "source": [
    "def network_reduction(_threshold):\n",
    "    reduction_link_list = [(G.vs[G.es[link_index].source]['name'], G.vs[G.es[link_index].target]['name']) for link_index in importance_array[importance_array > _threshold].index]\n",
    "    reduction_vertex_list = list(set([x[0] for x in reduction_link_list] + [x[1] for x in reduction_link_list]))\n",
    "    _G = ig.Graph(directed=True)\n",
    "    _G.add_vertices(reduction_vertex_list)\n",
    "    _G.add_edges(reduction_link_list)\n",
    "    return _G"
   ]
  },
  {
   "cell_type": "code",
   "execution_count": 24,
   "metadata": {},
   "outputs": [],
   "source": [
    "new_G = network_reduction(0)"
   ]
  },
  {
   "cell_type": "code",
   "execution_count": 25,
   "metadata": {},
   "outputs": [
    {
     "data": {
      "text/plain": [
       "3421520"
      ]
     },
     "execution_count": 25,
     "metadata": {},
     "output_type": "execute_result"
    }
   ],
   "source": [
    "len(G.es)"
   ]
  },
  {
   "cell_type": "code",
   "execution_count": 26,
   "metadata": {},
   "outputs": [
    {
     "data": {
      "text/plain": [
       "968797"
      ]
     },
     "execution_count": 26,
     "metadata": {},
     "output_type": "execute_result"
    }
   ],
   "source": [
    "len(new_G.es)"
   ]
  },
  {
   "cell_type": "code",
   "execution_count": 27,
   "metadata": {},
   "outputs": [
    {
     "data": {
      "text/plain": [
       "646048"
      ]
     },
     "execution_count": 27,
     "metadata": {},
     "output_type": "execute_result"
    }
   ],
   "source": [
    "len(G.vs)"
   ]
  },
  {
   "cell_type": "code",
   "execution_count": 28,
   "metadata": {},
   "outputs": [
    {
     "data": {
      "text/plain": [
       "646048"
      ]
     },
     "execution_count": 28,
     "metadata": {},
     "output_type": "execute_result"
    }
   ],
   "source": [
    "len(new_G.vs)"
   ]
  },
  {
   "cell_type": "code",
   "execution_count": 29,
   "metadata": {},
   "outputs": [],
   "source": [
    "new_G.write(\"pruned_network//kowiki_pruned\", format='net')\n",
    "pd.Series(new_G.vs['name']).to_pickle('pruned_network//kowiki_pruned.pkl')"
   ]
  },
  {
   "cell_type": "code",
   "execution_count": 30,
   "metadata": {},
   "outputs": [
    {
     "data": {
      "text/plain": [
       "1.4995743350339295"
      ]
     },
     "execution_count": 30,
     "metadata": {},
     "output_type": "execute_result"
    }
   ],
   "source": [
    "len(new_G.es)/len(new_G.vs)"
   ]
  },
  {
   "cell_type": "code",
   "execution_count": 31,
   "metadata": {},
   "outputs": [
    {
     "data": {
      "text/plain": [
       "5.296077071672693"
      ]
     },
     "execution_count": 31,
     "metadata": {},
     "output_type": "execute_result"
    }
   ],
   "source": [
    "len(G.es)/len(G.vs)"
   ]
  },
  {
   "cell_type": "code",
   "execution_count": 32,
   "metadata": {},
   "outputs": [
    {
     "data": {
      "text/plain": [
       "0.28314813299352337"
      ]
     },
     "execution_count": 32,
     "metadata": {},
     "output_type": "execute_result"
    }
   ],
   "source": [
    "len(new_G.es)/len(G.es)"
   ]
  },
  {
   "cell_type": "code",
   "execution_count": null,
   "metadata": {},
   "outputs": [],
   "source": []
  }
 ],
 "metadata": {
  "kernelspec": {
   "display_name": "Python 3",
   "language": "python",
   "name": "python3"
  },
  "language_info": {
   "codemirror_mode": {
    "name": "ipython",
    "version": 3
   },
   "file_extension": ".py",
   "mimetype": "text/x-python",
   "name": "python",
   "nbconvert_exporter": "python",
   "pygments_lexer": "ipython3",
   "version": "3.5.2"
  }
 },
 "nbformat": 4,
 "nbformat_minor": 2
}
